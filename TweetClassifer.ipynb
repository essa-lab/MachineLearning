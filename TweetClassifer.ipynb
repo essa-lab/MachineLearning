{
  "nbformat": 4,
  "nbformat_minor": 0,
  "metadata": {
    "colab": {
      "provenance": []
    },
    "kernelspec": {
      "name": "python3",
      "display_name": "Python 3"
    },
    "language_info": {
      "name": "python"
    }
  },
  "cells": [
    {
      "cell_type": "markdown",
      "source": [
        "\n",
        "Tweets classified as agressive or not\n",
        "\n",
        "\n",
        "Dataset https://www.kaggle.com/dataturks/dataset-for-detection-of-cybertrolls\n",
        "\n",
        "The dataset has 20001 items of which 20001 items have been manually labeled.\n",
        "\n",
        "The labels are divided into following 2 categories:\n",
        "\n",
        "1 - Cyber-Aggressive 0 - Non Cyber-Aggressive\n"
      ],
      "metadata": {
        "id": "Nf7YVQr_LFZp"
      }
    },
    {
      "cell_type": "code",
      "execution_count": 1,
      "metadata": {
        "colab": {
          "base_uri": "https://localhost:8080/"
        },
        "id": "54W60NFcLAGX",
        "outputId": "5b76ebc0-4da7-4a7e-bfea-eac3acd45aad"
      },
      "outputs": [
        {
          "output_type": "stream",
          "name": "stdout",
          "text": [
            "Mounted at /content/gdrive\n"
          ]
        }
      ],
      "source": [
        "from google.colab import drive\n",
        "drive.mount('/content/gdrive')"
      ]
    },
    {
      "cell_type": "code",
      "source": [
        "import os\n",
        "import json\n",
        "import numpy as np\n",
        "import pandas as pd\n",
        "import scipy\n",
        "import matplotlib.pyplot as plt\n",
        "import seaborn as sns\n",
        "%matplotlib inline\n",
        "from sklearn.feature_extraction.text import TfidfVectorizer\n",
        "from sklearn.metrics import mean_absolute_error\n",
        "from scipy.sparse import csr_matrix, hstack\n",
        "from sklearn.linear_model import Ridge\n",
        "from sklearn.model_selection import train_test_split, validation_curve\n",
        "from sklearn.model_selection import StratifiedKFold"
      ],
      "metadata": {
        "id": "Po1tavT1LKLE"
      },
      "execution_count": 2,
      "outputs": []
    },
    {
      "cell_type": "code",
      "source": [
        "import warnings\n",
        "warnings.filterwarnings('ignore')"
      ],
      "metadata": {
        "id": "XksHGNjYLM4a"
      },
      "execution_count": 3,
      "outputs": []
    },
    {
      "cell_type": "code",
      "source": [
        "df = pd.read_json('/content/gdrive/My Drive/Dataset for Detection of Cyber-Trolls.json', lines= True)\n",
        "df.head()"
      ],
      "metadata": {
        "colab": {
          "base_uri": "https://localhost:8080/",
          "height": 206
        },
        "id": "iqCFpqoULPW0",
        "outputId": "9e9855ad-9e61-41fc-beaf-1dd65ffcb8aa"
      },
      "execution_count": 4,
      "outputs": [
        {
          "output_type": "execute_result",
          "data": {
            "text/plain": [
              "                                             content  \\\n",
              "0                             Get fucking real dude.   \n",
              "1   She is as dirty as they come  and that crook ...   \n",
              "2   why did you fuck it up. I could do it all day...   \n",
              "3   Dude they dont finish enclosing the fucking s...   \n",
              "4   WTF are you talking about Men? No men thats n...   \n",
              "\n",
              "                      annotation  extras  \n",
              "0  {'notes': '', 'label': ['1']}     NaN  \n",
              "1  {'notes': '', 'label': ['1']}     NaN  \n",
              "2  {'notes': '', 'label': ['1']}     NaN  \n",
              "3  {'notes': '', 'label': ['1']}     NaN  \n",
              "4  {'notes': '', 'label': ['1']}     NaN  "
            ],
            "text/html": [
              "\n",
              "  <div id=\"df-1d3a88a8-eae8-452b-a8f9-c53d39b71137\">\n",
              "    <div class=\"colab-df-container\">\n",
              "      <div>\n",
              "<style scoped>\n",
              "    .dataframe tbody tr th:only-of-type {\n",
              "        vertical-align: middle;\n",
              "    }\n",
              "\n",
              "    .dataframe tbody tr th {\n",
              "        vertical-align: top;\n",
              "    }\n",
              "\n",
              "    .dataframe thead th {\n",
              "        text-align: right;\n",
              "    }\n",
              "</style>\n",
              "<table border=\"1\" class=\"dataframe\">\n",
              "  <thead>\n",
              "    <tr style=\"text-align: right;\">\n",
              "      <th></th>\n",
              "      <th>content</th>\n",
              "      <th>annotation</th>\n",
              "      <th>extras</th>\n",
              "    </tr>\n",
              "  </thead>\n",
              "  <tbody>\n",
              "    <tr>\n",
              "      <th>0</th>\n",
              "      <td>Get fucking real dude.</td>\n",
              "      <td>{'notes': '', 'label': ['1']}</td>\n",
              "      <td>NaN</td>\n",
              "    </tr>\n",
              "    <tr>\n",
              "      <th>1</th>\n",
              "      <td>She is as dirty as they come  and that crook ...</td>\n",
              "      <td>{'notes': '', 'label': ['1']}</td>\n",
              "      <td>NaN</td>\n",
              "    </tr>\n",
              "    <tr>\n",
              "      <th>2</th>\n",
              "      <td>why did you fuck it up. I could do it all day...</td>\n",
              "      <td>{'notes': '', 'label': ['1']}</td>\n",
              "      <td>NaN</td>\n",
              "    </tr>\n",
              "    <tr>\n",
              "      <th>3</th>\n",
              "      <td>Dude they dont finish enclosing the fucking s...</td>\n",
              "      <td>{'notes': '', 'label': ['1']}</td>\n",
              "      <td>NaN</td>\n",
              "    </tr>\n",
              "    <tr>\n",
              "      <th>4</th>\n",
              "      <td>WTF are you talking about Men? No men thats n...</td>\n",
              "      <td>{'notes': '', 'label': ['1']}</td>\n",
              "      <td>NaN</td>\n",
              "    </tr>\n",
              "  </tbody>\n",
              "</table>\n",
              "</div>\n",
              "      <button class=\"colab-df-convert\" onclick=\"convertToInteractive('df-1d3a88a8-eae8-452b-a8f9-c53d39b71137')\"\n",
              "              title=\"Convert this dataframe to an interactive table.\"\n",
              "              style=\"display:none;\">\n",
              "        \n",
              "  <svg xmlns=\"http://www.w3.org/2000/svg\" height=\"24px\"viewBox=\"0 0 24 24\"\n",
              "       width=\"24px\">\n",
              "    <path d=\"M0 0h24v24H0V0z\" fill=\"none\"/>\n",
              "    <path d=\"M18.56 5.44l.94 2.06.94-2.06 2.06-.94-2.06-.94-.94-2.06-.94 2.06-2.06.94zm-11 1L8.5 8.5l.94-2.06 2.06-.94-2.06-.94L8.5 2.5l-.94 2.06-2.06.94zm10 10l.94 2.06.94-2.06 2.06-.94-2.06-.94-.94-2.06-.94 2.06-2.06.94z\"/><path d=\"M17.41 7.96l-1.37-1.37c-.4-.4-.92-.59-1.43-.59-.52 0-1.04.2-1.43.59L10.3 9.45l-7.72 7.72c-.78.78-.78 2.05 0 2.83L4 21.41c.39.39.9.59 1.41.59.51 0 1.02-.2 1.41-.59l7.78-7.78 2.81-2.81c.8-.78.8-2.07 0-2.86zM5.41 20L4 18.59l7.72-7.72 1.47 1.35L5.41 20z\"/>\n",
              "  </svg>\n",
              "      </button>\n",
              "      \n",
              "  <style>\n",
              "    .colab-df-container {\n",
              "      display:flex;\n",
              "      flex-wrap:wrap;\n",
              "      gap: 12px;\n",
              "    }\n",
              "\n",
              "    .colab-df-convert {\n",
              "      background-color: #E8F0FE;\n",
              "      border: none;\n",
              "      border-radius: 50%;\n",
              "      cursor: pointer;\n",
              "      display: none;\n",
              "      fill: #1967D2;\n",
              "      height: 32px;\n",
              "      padding: 0 0 0 0;\n",
              "      width: 32px;\n",
              "    }\n",
              "\n",
              "    .colab-df-convert:hover {\n",
              "      background-color: #E2EBFA;\n",
              "      box-shadow: 0px 1px 2px rgba(60, 64, 67, 0.3), 0px 1px 3px 1px rgba(60, 64, 67, 0.15);\n",
              "      fill: #174EA6;\n",
              "    }\n",
              "\n",
              "    [theme=dark] .colab-df-convert {\n",
              "      background-color: #3B4455;\n",
              "      fill: #D2E3FC;\n",
              "    }\n",
              "\n",
              "    [theme=dark] .colab-df-convert:hover {\n",
              "      background-color: #434B5C;\n",
              "      box-shadow: 0px 1px 3px 1px rgba(0, 0, 0, 0.15);\n",
              "      filter: drop-shadow(0px 1px 2px rgba(0, 0, 0, 0.3));\n",
              "      fill: #FFFFFF;\n",
              "    }\n",
              "  </style>\n",
              "\n",
              "      <script>\n",
              "        const buttonEl =\n",
              "          document.querySelector('#df-1d3a88a8-eae8-452b-a8f9-c53d39b71137 button.colab-df-convert');\n",
              "        buttonEl.style.display =\n",
              "          google.colab.kernel.accessAllowed ? 'block' : 'none';\n",
              "\n",
              "        async function convertToInteractive(key) {\n",
              "          const element = document.querySelector('#df-1d3a88a8-eae8-452b-a8f9-c53d39b71137');\n",
              "          const dataTable =\n",
              "            await google.colab.kernel.invokeFunction('convertToInteractive',\n",
              "                                                     [key], {});\n",
              "          if (!dataTable) return;\n",
              "\n",
              "          const docLinkHtml = 'Like what you see? Visit the ' +\n",
              "            '<a target=\"_blank\" href=https://colab.research.google.com/notebooks/data_table.ipynb>data table notebook</a>'\n",
              "            + ' to learn more about interactive tables.';\n",
              "          element.innerHTML = '';\n",
              "          dataTable['output_type'] = 'display_data';\n",
              "          await google.colab.output.renderOutput(dataTable, element);\n",
              "          const docLink = document.createElement('div');\n",
              "          docLink.innerHTML = docLinkHtml;\n",
              "          element.appendChild(docLink);\n",
              "        }\n",
              "      </script>\n",
              "    </div>\n",
              "  </div>\n",
              "  "
            ]
          },
          "metadata": {},
          "execution_count": 4
        }
      ]
    },
    {
      "cell_type": "code",
      "source": [
        "df.shape"
      ],
      "metadata": {
        "colab": {
          "base_uri": "https://localhost:8080/"
        },
        "id": "4l4K-n8-LnDq",
        "outputId": "13807ade-948f-47a3-d691-16957be6f716"
      },
      "execution_count": 5,
      "outputs": [
        {
          "output_type": "execute_result",
          "data": {
            "text/plain": [
              "(20001, 3)"
            ]
          },
          "metadata": {},
          "execution_count": 5
        }
      ]
    },
    {
      "cell_type": "code",
      "source": [
        "df.info()"
      ],
      "metadata": {
        "colab": {
          "base_uri": "https://localhost:8080/"
        },
        "id": "O12B4oAbLpm4",
        "outputId": "e7c7a44f-fa42-4068-9fb3-0bbb3c1a0fad"
      },
      "execution_count": 7,
      "outputs": [
        {
          "output_type": "stream",
          "name": "stdout",
          "text": [
            "<class 'pandas.core.frame.DataFrame'>\n",
            "RangeIndex: 20001 entries, 0 to 20000\n",
            "Data columns (total 3 columns):\n",
            " #   Column      Non-Null Count  Dtype  \n",
            "---  ------      --------------  -----  \n",
            " 0   content     20001 non-null  object \n",
            " 1   annotation  20001 non-null  object \n",
            " 2   extras      0 non-null      float64\n",
            "dtypes: float64(1), object(2)\n",
            "memory usage: 468.9+ KB\n"
          ]
        }
      ]
    },
    {
      "cell_type": "code",
      "source": [
        "df.drop(columns = ['extras'], inplace = True)"
      ],
      "metadata": {
        "id": "19jREJQ8Lq4w"
      },
      "execution_count": 8,
      "outputs": []
    },
    {
      "cell_type": "code",
      "source": [
        "df.rename(columns = {'annotation' : 'label'}, inplace = True)"
      ],
      "metadata": {
        "id": "bIvIcrlaLuN5"
      },
      "execution_count": 9,
      "outputs": []
    },
    {
      "cell_type": "code",
      "source": [
        "df.label = df.label.apply(lambda x : int(x['label'][0]))"
      ],
      "metadata": {
        "id": "pQdzB4JSLwlN"
      },
      "execution_count": 10,
      "outputs": []
    },
    {
      "cell_type": "code",
      "source": [
        "df.head()"
      ],
      "metadata": {
        "colab": {
          "base_uri": "https://localhost:8080/",
          "height": 206
        },
        "id": "qKEChtEVLylR",
        "outputId": "75305405-c38d-4ea8-f6a9-f633781392e4"
      },
      "execution_count": 11,
      "outputs": [
        {
          "output_type": "execute_result",
          "data": {
            "text/plain": [
              "                                             content  label\n",
              "0                             Get fucking real dude.      1\n",
              "1   She is as dirty as they come  and that crook ...      1\n",
              "2   why did you fuck it up. I could do it all day...      1\n",
              "3   Dude they dont finish enclosing the fucking s...      1\n",
              "4   WTF are you talking about Men? No men thats n...      1"
            ],
            "text/html": [
              "\n",
              "  <div id=\"df-3b1f8df5-007d-4946-8425-08b8430771af\">\n",
              "    <div class=\"colab-df-container\">\n",
              "      <div>\n",
              "<style scoped>\n",
              "    .dataframe tbody tr th:only-of-type {\n",
              "        vertical-align: middle;\n",
              "    }\n",
              "\n",
              "    .dataframe tbody tr th {\n",
              "        vertical-align: top;\n",
              "    }\n",
              "\n",
              "    .dataframe thead th {\n",
              "        text-align: right;\n",
              "    }\n",
              "</style>\n",
              "<table border=\"1\" class=\"dataframe\">\n",
              "  <thead>\n",
              "    <tr style=\"text-align: right;\">\n",
              "      <th></th>\n",
              "      <th>content</th>\n",
              "      <th>label</th>\n",
              "    </tr>\n",
              "  </thead>\n",
              "  <tbody>\n",
              "    <tr>\n",
              "      <th>0</th>\n",
              "      <td>Get fucking real dude.</td>\n",
              "      <td>1</td>\n",
              "    </tr>\n",
              "    <tr>\n",
              "      <th>1</th>\n",
              "      <td>She is as dirty as they come  and that crook ...</td>\n",
              "      <td>1</td>\n",
              "    </tr>\n",
              "    <tr>\n",
              "      <th>2</th>\n",
              "      <td>why did you fuck it up. I could do it all day...</td>\n",
              "      <td>1</td>\n",
              "    </tr>\n",
              "    <tr>\n",
              "      <th>3</th>\n",
              "      <td>Dude they dont finish enclosing the fucking s...</td>\n",
              "      <td>1</td>\n",
              "    </tr>\n",
              "    <tr>\n",
              "      <th>4</th>\n",
              "      <td>WTF are you talking about Men? No men thats n...</td>\n",
              "      <td>1</td>\n",
              "    </tr>\n",
              "  </tbody>\n",
              "</table>\n",
              "</div>\n",
              "      <button class=\"colab-df-convert\" onclick=\"convertToInteractive('df-3b1f8df5-007d-4946-8425-08b8430771af')\"\n",
              "              title=\"Convert this dataframe to an interactive table.\"\n",
              "              style=\"display:none;\">\n",
              "        \n",
              "  <svg xmlns=\"http://www.w3.org/2000/svg\" height=\"24px\"viewBox=\"0 0 24 24\"\n",
              "       width=\"24px\">\n",
              "    <path d=\"M0 0h24v24H0V0z\" fill=\"none\"/>\n",
              "    <path d=\"M18.56 5.44l.94 2.06.94-2.06 2.06-.94-2.06-.94-.94-2.06-.94 2.06-2.06.94zm-11 1L8.5 8.5l.94-2.06 2.06-.94-2.06-.94L8.5 2.5l-.94 2.06-2.06.94zm10 10l.94 2.06.94-2.06 2.06-.94-2.06-.94-.94-2.06-.94 2.06-2.06.94z\"/><path d=\"M17.41 7.96l-1.37-1.37c-.4-.4-.92-.59-1.43-.59-.52 0-1.04.2-1.43.59L10.3 9.45l-7.72 7.72c-.78.78-.78 2.05 0 2.83L4 21.41c.39.39.9.59 1.41.59.51 0 1.02-.2 1.41-.59l7.78-7.78 2.81-2.81c.8-.78.8-2.07 0-2.86zM5.41 20L4 18.59l7.72-7.72 1.47 1.35L5.41 20z\"/>\n",
              "  </svg>\n",
              "      </button>\n",
              "      \n",
              "  <style>\n",
              "    .colab-df-container {\n",
              "      display:flex;\n",
              "      flex-wrap:wrap;\n",
              "      gap: 12px;\n",
              "    }\n",
              "\n",
              "    .colab-df-convert {\n",
              "      background-color: #E8F0FE;\n",
              "      border: none;\n",
              "      border-radius: 50%;\n",
              "      cursor: pointer;\n",
              "      display: none;\n",
              "      fill: #1967D2;\n",
              "      height: 32px;\n",
              "      padding: 0 0 0 0;\n",
              "      width: 32px;\n",
              "    }\n",
              "\n",
              "    .colab-df-convert:hover {\n",
              "      background-color: #E2EBFA;\n",
              "      box-shadow: 0px 1px 2px rgba(60, 64, 67, 0.3), 0px 1px 3px 1px rgba(60, 64, 67, 0.15);\n",
              "      fill: #174EA6;\n",
              "    }\n",
              "\n",
              "    [theme=dark] .colab-df-convert {\n",
              "      background-color: #3B4455;\n",
              "      fill: #D2E3FC;\n",
              "    }\n",
              "\n",
              "    [theme=dark] .colab-df-convert:hover {\n",
              "      background-color: #434B5C;\n",
              "      box-shadow: 0px 1px 3px 1px rgba(0, 0, 0, 0.15);\n",
              "      filter: drop-shadow(0px 1px 2px rgba(0, 0, 0, 0.3));\n",
              "      fill: #FFFFFF;\n",
              "    }\n",
              "  </style>\n",
              "\n",
              "      <script>\n",
              "        const buttonEl =\n",
              "          document.querySelector('#df-3b1f8df5-007d-4946-8425-08b8430771af button.colab-df-convert');\n",
              "        buttonEl.style.display =\n",
              "          google.colab.kernel.accessAllowed ? 'block' : 'none';\n",
              "\n",
              "        async function convertToInteractive(key) {\n",
              "          const element = document.querySelector('#df-3b1f8df5-007d-4946-8425-08b8430771af');\n",
              "          const dataTable =\n",
              "            await google.colab.kernel.invokeFunction('convertToInteractive',\n",
              "                                                     [key], {});\n",
              "          if (!dataTable) return;\n",
              "\n",
              "          const docLinkHtml = 'Like what you see? Visit the ' +\n",
              "            '<a target=\"_blank\" href=https://colab.research.google.com/notebooks/data_table.ipynb>data table notebook</a>'\n",
              "            + ' to learn more about interactive tables.';\n",
              "          element.innerHTML = '';\n",
              "          dataTable['output_type'] = 'display_data';\n",
              "          await google.colab.output.renderOutput(dataTable, element);\n",
              "          const docLink = document.createElement('div');\n",
              "          docLink.innerHTML = docLinkHtml;\n",
              "          element.appendChild(docLink);\n",
              "        }\n",
              "      </script>\n",
              "    </div>\n",
              "  </div>\n",
              "  "
            ]
          },
          "metadata": {},
          "execution_count": 11
        }
      ]
    },
    {
      "cell_type": "code",
      "source": [
        "df[df['label'] == 0].sample(5).content"
      ],
      "metadata": {
        "colab": {
          "base_uri": "https://localhost:8080/"
        },
        "id": "3GBx61L2L0h9",
        "outputId": "3af978e1-eb87-45f9-f488-4e33c764711b"
      },
      "execution_count": 12,
      "outputs": [
        {
          "output_type": "execute_result",
          "data": {
            "text/plain": [
              "15855                     smile hahah and say thank you :)\n",
              "11365    damn Lowkey found his future wifey  go make lo...\n",
              "11041    Wel get ur ass over here just dnt be loud guh ...\n",
              "16207      1. I am totally able to telepathically read ...\n",
              "15864      buncha kind things have been done for me. BU...\n",
              "Name: content, dtype: object"
            ]
          },
          "metadata": {},
          "execution_count": 12
        }
      ]
    },
    {
      "cell_type": "code",
      "source": [
        "df[df['label'] == 1].sample(5).content"
      ],
      "metadata": {
        "colab": {
          "base_uri": "https://localhost:8080/"
        },
        "id": "RND0-hl3L2To",
        "outputId": "9c4bfdf3-9715-4e64-af75-9c33b0d12db5"
      },
      "execution_count": 13,
      "outputs": [
        {
          "output_type": "execute_result",
          "data": {
            "text/plain": [
              "774      RT this then GO fuck yourself stay the FUCL o...\n",
              "7174    but you know what i hate ? the comments that a...\n",
              "3061    its ok decided not to go to fam party. going b...\n",
              "3054    Excited that yr friends get to see yr show. I ...\n",
              "3990    Would it piss off Bill O'Reilly if I wished yo...\n",
              "Name: content, dtype: object"
            ]
          },
          "metadata": {},
          "execution_count": 13
        }
      ]
    },
    {
      "cell_type": "code",
      "source": [
        "_, ax = plt.subplots()\n",
        "plt.bar(np.arange(2), df['label'].value_counts(), color = ['blue', 'red'])\n",
        "ax.set_xticks(np.arange(2))\n",
        "ax.set_xticklabels(['Non Cyber-Aggressive', 'Cyber-Aggressive']);"
      ],
      "metadata": {
        "colab": {
          "base_uri": "https://localhost:8080/",
          "height": 430
        },
        "id": "KlguC_7nL4rJ",
        "outputId": "924888ea-29b4-488e-e7f2-5fcd3275068b"
      },
      "execution_count": 14,
      "outputs": [
        {
          "output_type": "display_data",
          "data": {
            "text/plain": [
              "<Figure size 640x480 with 1 Axes>"
            ],
            "image/png": "[encoded data removed]"
          },
          "metadata": {}
        }
      ]
    },
    {
      "cell_type": "code",
      "source": [
        "df['label'].value_counts()[1] / df.shape[0], df['label'].value_counts()[0] / df.shape[0]"
      ],
      "metadata": {
        "colab": {
          "base_uri": "https://localhost:8080/"
        },
        "id": "v8L6ntJPL7Kk",
        "outputId": "558c8b12-33d5-474a-b7ca-1a05ca257f2f"
      },
      "execution_count": 15,
      "outputs": [
        {
          "output_type": "execute_result",
          "data": {
            "text/plain": [
              "(0.39108044597770114, 0.6089195540222989)"
            ]
          },
          "metadata": {},
          "execution_count": 15
        }
      ]
    },
    {
      "cell_type": "code",
      "source": [
        "df['len'] = df['content'].apply(lambda x : len(x.strip().split()))"
      ],
      "metadata": {
        "id": "LlYH4AdpL9Ky"
      },
      "execution_count": 16,
      "outputs": []
    },
    {
      "cell_type": "code",
      "source": [
        "import regex as re "
      ],
      "metadata": {
        "id": "P34KIbTOL_P9"
      },
      "execution_count": 17,
      "outputs": []
    },
    {
      "cell_type": "code",
      "source": [
        "df['capital'] = df['content'].apply(lambda x : sum(1 for c in x if c.isupper()))"
      ],
      "metadata": {
        "id": "2K6ZepgYMByz"
      },
      "execution_count": 18,
      "outputs": []
    },
    {
      "cell_type": "code",
      "source": [
        "df['punct'] = df['content'].apply(lambda x : len(re.findall(\"[^\\P{P}-]+\", x)))\n",
        "df['punct'] = df['content'].apply(lambda x : len(re.findall(\"[^\\P{P}-]+\", x)))"
      ],
      "metadata": {
        "id": "QD729gJAMEHs"
      },
      "execution_count": 19,
      "outputs": []
    },
    {
      "cell_type": "code",
      "source": [
        "df['content'] = df['content'].apply(lambda x : re.sub(\"[^\\P{P}-]+\", \"\", x))   \n",
        "df['content'] = df['content'].apply(lambda x : str.lower(x))"
      ],
      "metadata": {
        "id": "eN1-unt1MHC8"
      },
      "execution_count": 20,
      "outputs": []
    },
    {
      "cell_type": "code",
      "source": [
        "symbols = {}\n",
        "for x in [item for sublist in list(map(list, df['content'].tolist())) for item in sublist] :\n",
        "    if x in symbols :\n",
        "        symbols[x] += 1\n",
        "    else :\n",
        "        symbols[x] = 1\n",
        "symbols"
      ],
      "metadata": {
        "colab": {
          "base_uri": "https://localhost:8080/"
        },
        "id": "5t9J0nPAMLn3",
        "outputId": "18fa0d4c-6956-451a-ac85-0b05bf7c0c06"
      },
      "execution_count": 21,
      "outputs": [
        {
          "output_type": "execute_result",
          "data": {
            "text/plain": [
              "{' ': 257558,\n",
              " 'g': 24486,\n",
              " 'e': 104464,\n",
              " 't': 91603,\n",
              " 'f': 19569,\n",
              " 'u': 40885,\n",
              " 'c': 26567,\n",
              " 'k': 19024,\n",
              " 'i': 71229,\n",
              " 'n': 61949,\n",
              " 'r': 46623,\n",
              " 'a': 86393,\n",
              " 'l': 43265,\n",
              " 'd': 36600,\n",
              " 's': 63639,\n",
              " 'h': 58545,\n",
              " 'y': 32553,\n",
              " 'o': 86476,\n",
              " 'm': 30832,\n",
              " 'p': 17412,\n",
              " 'j': 3000,\n",
              " 'b': 16983,\n",
              " 'w': 24918,\n",
              " 'v': 9412,\n",
              " '1': 769,\n",
              " '7': 232,\n",
              " '6': 243,\n",
              " '0': 1019,\n",
              " 'x': 1588,\n",
              " '-': 2121,\n",
              " '2': 941,\n",
              " '4': 400,\n",
              " '5': 374,\n",
              " 'q': 864,\n",
              " '9': 294,\n",
              " '3': 1023,\n",
              " '$': 137,\n",
              " 'z': 1460,\n",
              " '8': 363,\n",
              " '^': 50,\n",
              " '=': 241,\n",
              " '~': 67,\n",
              " '+': 131,\n",
              " '`': 7,\n",
              " '<': 203,\n",
              " '>': 35,\n",
              " '|': 15}"
            ]
          },
          "metadata": {},
          "execution_count": 21
        }
      ]
    },
    {
      "cell_type": "code",
      "source": [
        "digits = '0123456789'\n",
        "df['num'] = df['content'].apply(lambda x : 1 if len([s for s in x if s in digits]) > 0 else 0)"
      ],
      "metadata": {
        "id": "ZevA6J3CMOUq"
      },
      "execution_count": 22,
      "outputs": []
    },
    {
      "cell_type": "code",
      "source": [
        "df.head()"
      ],
      "metadata": {
        "colab": {
          "base_uri": "https://localhost:8080/",
          "height": 206
        },
        "id": "JAxnmw06MRDo",
        "outputId": "da8bc62f-de18-47c2-fb43-35d2ab86ad9e"
      },
      "execution_count": 23,
      "outputs": [
        {
          "output_type": "execute_result",
          "data": {
            "text/plain": [
              "                                             content  label  len  capital  \\\n",
              "0                              get fucking real dude      1    4        1   \n",
              "1   she is as dirty as they come  and that crook ...      1   25        5   \n",
              "2   why did you fuck it up i could do it all day ...      1   30        3   \n",
              "3   dude they dont finish enclosing the fucking s...      1   21        4   \n",
              "4   wtf are you talking about men no men thats no...      1   15        5   \n",
              "\n",
              "   punct  num  \n",
              "0      1    0  \n",
              "1      3    0  \n",
              "2      5    0  \n",
              "3      4    0  \n",
              "4      3    0  "
            ],
            "text/html": [
              "\n",
              "  <div id=\"df-4e236fb2-9042-4cae-867c-dc91bfb6029f\">\n",
              "    <div class=\"colab-df-container\">\n",
              "      <div>\n",
              "<style scoped>\n",
              "    .dataframe tbody tr th:only-of-type {\n",
              "        vertical-align: middle;\n",
              "    }\n",
              "\n",
              "    .dataframe tbody tr th {\n",
              "        vertical-align: top;\n",
              "    }\n",
              "\n",
              "    .dataframe thead th {\n",
              "        text-align: right;\n",
              "    }\n",
              "</style>\n",
              "<table border=\"1\" class=\"dataframe\">\n",
              "  <thead>\n",
              "    <tr style=\"text-align: right;\">\n",
              "      <th></th>\n",
              "      <th>content</th>\n",
              "      <th>label</th>\n",
              "      <th>len</th>\n",
              "      <th>capital</th>\n",
              "      <th>punct</th>\n",
              "      <th>num</th>\n",
              "    </tr>\n",
              "  </thead>\n",
              "  <tbody>\n",
              "    <tr>\n",
              "      <th>0</th>\n",
              "      <td>get fucking real dude</td>\n",
              "      <td>1</td>\n",
              "      <td>4</td>\n",
              "      <td>1</td>\n",
              "      <td>1</td>\n",
              "      <td>0</td>\n",
              "    </tr>\n",
              "    <tr>\n",
              "      <th>1</th>\n",
              "      <td>she is as dirty as they come  and that crook ...</td>\n",
              "      <td>1</td>\n",
              "      <td>25</td>\n",
              "      <td>5</td>\n",
              "      <td>3</td>\n",
              "      <td>0</td>\n",
              "    </tr>\n",
              "    <tr>\n",
              "      <th>2</th>\n",
              "      <td>why did you fuck it up i could do it all day ...</td>\n",
              "      <td>1</td>\n",
              "      <td>30</td>\n",
              "      <td>3</td>\n",
              "      <td>5</td>\n",
              "      <td>0</td>\n",
              "    </tr>\n",
              "    <tr>\n",
              "      <th>3</th>\n",
              "      <td>dude they dont finish enclosing the fucking s...</td>\n",
              "      <td>1</td>\n",
              "      <td>21</td>\n",
              "      <td>4</td>\n",
              "      <td>4</td>\n",
              "      <td>0</td>\n",
              "    </tr>\n",
              "    <tr>\n",
              "      <th>4</th>\n",
              "      <td>wtf are you talking about men no men thats no...</td>\n",
              "      <td>1</td>\n",
              "      <td>15</td>\n",
              "      <td>5</td>\n",
              "      <td>3</td>\n",
              "      <td>0</td>\n",
              "    </tr>\n",
              "  </tbody>\n",
              "</table>\n",
              "</div>\n",
              "      <button class=\"colab-df-convert\" onclick=\"convertToInteractive('df-4e236fb2-9042-4cae-867c-dc91bfb6029f')\"\n",
              "              title=\"Convert this dataframe to an interactive table.\"\n",
              "              style=\"display:none;\">\n",
              "        \n",
              "  <svg xmlns=\"http://www.w3.org/2000/svg\" height=\"24px\"viewBox=\"0 0 24 24\"\n",
              "       width=\"24px\">\n",
              "    <path d=\"M0 0h24v24H0V0z\" fill=\"none\"/>\n",
              "    <path d=\"M18.56 5.44l.94 2.06.94-2.06 2.06-.94-2.06-.94-.94-2.06-.94 2.06-2.06.94zm-11 1L8.5 8.5l.94-2.06 2.06-.94-2.06-.94L8.5 2.5l-.94 2.06-2.06.94zm10 10l.94 2.06.94-2.06 2.06-.94-2.06-.94-.94-2.06-.94 2.06-2.06.94z\"/><path d=\"M17.41 7.96l-1.37-1.37c-.4-.4-.92-.59-1.43-.59-.52 0-1.04.2-1.43.59L10.3 9.45l-7.72 7.72c-.78.78-.78 2.05 0 2.83L4 21.41c.39.39.9.59 1.41.59.51 0 1.02-.2 1.41-.59l7.78-7.78 2.81-2.81c.8-.78.8-2.07 0-2.86zM5.41 20L4 18.59l7.72-7.72 1.47 1.35L5.41 20z\"/>\n",
              "  </svg>\n",
              "      </button>\n",
              "      \n",
              "  <style>\n",
              "    .colab-df-container {\n",
              "      display:flex;\n",
              "      flex-wrap:wrap;\n",
              "      gap: 12px;\n",
              "    }\n",
              "\n",
              "    .colab-df-convert {\n",
              "      background-color: #E8F0FE;\n",
              "      border: none;\n",
              "      border-radius: 50%;\n",
              "      cursor: pointer;\n",
              "      display: none;\n",
              "      fill: #1967D2;\n",
              "      height: 32px;\n",
              "      padding: 0 0 0 0;\n",
              "      width: 32px;\n",
              "    }\n",
              "\n",
              "    .colab-df-convert:hover {\n",
              "      background-color: #E2EBFA;\n",
              "      box-shadow: 0px 1px 2px rgba(60, 64, 67, 0.3), 0px 1px 3px 1px rgba(60, 64, 67, 0.15);\n",
              "      fill: #174EA6;\n",
              "    }\n",
              "\n",
              "    [theme=dark] .colab-df-convert {\n",
              "      background-color: #3B4455;\n",
              "      fill: #D2E3FC;\n",
              "    }\n",
              "\n",
              "    [theme=dark] .colab-df-convert:hover {\n",
              "      background-color: #434B5C;\n",
              "      box-shadow: 0px 1px 3px 1px rgba(0, 0, 0, 0.15);\n",
              "      filter: drop-shadow(0px 1px 2px rgba(0, 0, 0, 0.3));\n",
              "      fill: #FFFFFF;\n",
              "    }\n",
              "  </style>\n",
              "\n",
              "      <script>\n",
              "        const buttonEl =\n",
              "          document.querySelector('#df-4e236fb2-9042-4cae-867c-dc91bfb6029f button.colab-df-convert');\n",
              "        buttonEl.style.display =\n",
              "          google.colab.kernel.accessAllowed ? 'block' : 'none';\n",
              "\n",
              "        async function convertToInteractive(key) {\n",
              "          const element = document.querySelector('#df-4e236fb2-9042-4cae-867c-dc91bfb6029f');\n",
              "          const dataTable =\n",
              "            await google.colab.kernel.invokeFunction('convertToInteractive',\n",
              "                                                     [key], {});\n",
              "          if (!dataTable) return;\n",
              "\n",
              "          const docLinkHtml = 'Like what you see? Visit the ' +\n",
              "            '<a target=\"_blank\" href=https://colab.research.google.com/notebooks/data_table.ipynb>data table notebook</a>'\n",
              "            + ' to learn more about interactive tables.';\n",
              "          element.innerHTML = '';\n",
              "          dataTable['output_type'] = 'display_data';\n",
              "          await google.colab.output.renderOutput(dataTable, element);\n",
              "          const docLink = document.createElement('div');\n",
              "          docLink.innerHTML = docLinkHtml;\n",
              "          element.appendChild(docLink);\n",
              "        }\n",
              "      </script>\n",
              "    </div>\n",
              "  </div>\n",
              "  "
            ]
          },
          "metadata": {},
          "execution_count": 23
        }
      ]
    },
    {
      "cell_type": "code",
      "source": [
        "target = df['label'].values"
      ],
      "metadata": {
        "id": "m13xM5lIMSx4"
      },
      "execution_count": 24,
      "outputs": []
    },
    {
      "cell_type": "markdown",
      "source": [
        "\n",
        "Split dataset on train and test"
      ],
      "metadata": {
        "id": "u8pl9s6BMViS"
      }
    },
    {
      "cell_type": "code",
      "source": [
        "X_train, X_test, y_train, y_test = train_test_split(df, target, test_size = 0.3, stratify = target, random_state = 31)\n",
        "y_train.sum() / len(y_train), y_test.sum() / len(y_test)"
      ],
      "metadata": {
        "colab": {
          "base_uri": "https://localhost:8080/"
        },
        "id": "j3LVAGctMVGq",
        "outputId": "e3959a49-b365-4ff8-ff20-39cff97d0f57"
      },
      "execution_count": 25,
      "outputs": [
        {
          "output_type": "execute_result",
          "data": {
            "text/plain": [
              "(0.39107142857142857, 0.39110148308615234)"
            ]
          },
          "metadata": {},
          "execution_count": 25
        }
      ]
    },
    {
      "cell_type": "code",
      "source": [
        "X_train.shape, X_test.shape"
      ],
      "metadata": {
        "colab": {
          "base_uri": "https://localhost:8080/"
        },
        "id": "o_ie_3hsMcQ8",
        "outputId": "0e4e9131-e6de-4b77-e3c7-7f0b01ac5e65"
      },
      "execution_count": 26,
      "outputs": [
        {
          "output_type": "execute_result",
          "data": {
            "text/plain": [
              "((14000, 6), (6001, 6))"
            ]
          },
          "metadata": {},
          "execution_count": 26
        }
      ]
    },
    {
      "cell_type": "code",
      "source": [
        "for col in X_train.columns[2 :] :\n",
        "    fig, axes = plt.subplots(nrows = 1, ncols = 2, figsize = (20, 10))\n",
        "    axes[0].set_title(col)\n",
        "    axes[0].hist(X_train[col], bins = 200);\n",
        "    axes[1].set_title(col)\n",
        "    axes[1].hist(X_train[col][X_train['label'] == 0], bins = 200, label = 'normal')\n",
        "    axes[1].hist(X_train[col][X_train['label'] == 1], bins = 200, label = 'agressive')\n",
        "    plt.show()"
      ],
      "metadata": {
        "colab": {
          "base_uri": "https://localhost:8080/",
          "height": 1000
        },
        "id": "J-AG3mYuMeSo",
        "outputId": "0ef38f6d-047a-4158-fc02-c8a2db805135"
      },
      "execution_count": 27,
      "outputs": [
        {
          "output_type": "display_data",
          "data": {
            "text/plain": [
              "<Figure size 2000x1000 with 2 Axes>"
            ],
            "image/png": "[encoded data removed]"
          },
          "metadata": {}
        },
        {
          "output_type": "display_data",
          "data": {
            "text/plain": [
              "<Figure size 2000x1000 with 2 Axes>"
            ],
            "image/png": "[encoded data removed]"
          },
          "metadata": {}
        },
        {
          "output_type": "display_data",
          "data": {
            "text/plain": [
              "<Figure size 2000x1000 with 2 Axes>"
            ],
            "image/png": "[encoded data removed]"
          },
          "metadata": {}
        },
        {
          "output_type": "display_data",
          "data": {
            "text/plain": [
              "<Figure size 2000x1000 with 2 Axes>"
            ],
            "image/png": "[encoded data removed]"
          },
          "metadata": {}
        }
      ]
    },
    {
      "cell_type": "code",
      "source": [
        "fig, ax = plt.subplots(figsize = (20, 10))\n",
        "sns.heatmap(X_train[['label', 'len', 'punct', 'capital','num']].corr())"
      ],
      "metadata": {
        "colab": {
          "base_uri": "https://localhost:8080/",
          "height": 842
        },
        "id": "8Evn97qrMgsu",
        "outputId": "1716e071-b735-443f-8952-b1fdf310ef9b"
      },
      "execution_count": 28,
      "outputs": [
        {
          "output_type": "execute_result",
          "data": {
            "text/plain": [
              "<Axes: >"
            ]
          },
          "metadata": {},
          "execution_count": 28
        },
        {
          "output_type": "display_data",
          "data": {
            "text/plain": [
              "<Figure size 2000x1000 with 2 Axes>"
            ],
            "image/png": "[encoded data removed]"
          },
          "metadata": {}
        }
      ]
    },
    {
      "cell_type": "code",
      "source": [
        "from sklearn.preprocessing import StandardScaler\n",
        "scaler = StandardScaler()\n",
        "\n",
        "\n",
        "cols = ['len', 'punct', 'capital', 'num']\n",
        "X_train_scaled = pd.DataFrame(scaler.fit_transform(X_train[cols]), columns = cols)\n",
        "X_test_scaled = pd.DataFrame(scaler.transform(X_test[cols]), columns = cols)"
      ],
      "metadata": {
        "id": "oNtXudrGMi-c"
      },
      "execution_count": 29,
      "outputs": []
    },
    {
      "cell_type": "code",
      "source": [
        "def valid(model, n, bayes = False) :\n",
        "    skf = StratifiedKFold(n_splits = n)\n",
        "    auc_scores = []\n",
        "    for train_index, valid_index in skf.split(X_train_scaled, y_train):\n",
        "        X_train_part, X_valid = X_train_scaled.iloc[train_index], X_train_scaled.iloc[valid_index]\n",
        "        y_train_part, y_valid = y_train[train_index], y_train[valid_index]\n",
        "        \n",
        "        X_train_sms, X_valid_sms = X_train.iloc[train_index]['content'], X_train.iloc[valid_index]['content']\n",
        "        cv = TfidfVectorizer(ngram_range = (1, 3))\n",
        "        X_train_bow = cv.fit_transform(X_train_sms)\n",
        "        X_valid_bow = cv.transform(X_valid_sms)     \n",
        "        if bayes :\n",
        "            X_train_new = X_train_bow\n",
        "            X_valid_new = X_valid_bow\n",
        "        else :\n",
        "            X_train_new = scipy.sparse.csr_matrix(scipy.sparse.hstack([X_train_bow, X_train_part]))\n",
        "            X_valid_new = scipy.sparse.csr_matrix(scipy.sparse.hstack([X_valid_bow, X_valid]))\n",
        "        model.fit(X_train_new, y_train_part)\n",
        "        model_pred_for_auc = model.predict_proba(X_valid_new)\n",
        "        auc_scores.append(roc_auc_score(y_valid, model_pred_for_auc[:, 1]))\n",
        "    return np.mean(auc_scores)\n",
        "     \n",
        "\n",
        "from sklearn.naive_bayes import MultinomialNB\n",
        "from sklearn.linear_model import LogisticRegression\n",
        "\n",
        "logit = LogisticRegression(random_state = 31)\n",
        "bayes = MultinomialNB()\n",
        "     \n"
      ],
      "metadata": {
        "id": "xAksfUkqMndF"
      },
      "execution_count": 34,
      "outputs": []
    },
    {
      "cell_type": "code",
      "source": [
        "from sklearn.metrics import roc_auc_score, precision_score\n",
        "     \n",
        "\n",
        "\n",
        "scores_logit = valid(logit,10)\n",
        "print('Logistic regreession - rocauc : {}'.format(scores_logit))\n"
      ],
      "metadata": {
        "colab": {
          "base_uri": "https://localhost:8080/"
        },
        "id": "eNPhfiDhMqaP",
        "outputId": "313e8365-12de-4f56-e3d2-ccee96b70dcd"
      },
      "execution_count": 35,
      "outputs": [
        {
          "output_type": "stream",
          "name": "stdout",
          "text": [
            "Logistic regreession - rocauc : 0.8564669049751042\n"
          ]
        }
      ]
    },
    {
      "cell_type": "code",
      "source": [
        "scores_bayes = valid(bayes, 10, True)\n",
        "print('Bayessian classfier - rocauc : {}'.format(scores_bayes))"
      ],
      "metadata": {
        "colab": {
          "base_uri": "https://localhost:8080/"
        },
        "id": "NEFi5EivMufT",
        "outputId": "c350e95a-e4f1-4d99-af5d-cc4ee234ac86"
      },
      "execution_count": 36,
      "outputs": [
        {
          "output_type": "stream",
          "name": "stdout",
          "text": [
            "Bayessian classfier - rocauc : 0.9389191375355204\n"
          ]
        }
      ]
    },
    {
      "cell_type": "code",
      "source": [
        "def valid_for_valid_plots(model, n, bayes = False) :\n",
        "    skf = StratifiedKFold(n_splits = n)\n",
        "    auc_scores_cv = []\n",
        "    auc_scores_valid = []\n",
        "    for train_index, valid_index in skf.split(X_train_scaled, y_train):\n",
        "        X_train_part, X_valid = X_train_scaled.iloc[train_index], X_train_scaled.iloc[valid_index]\n",
        "        y_train_part, y_valid = y_train[train_index], y_train[valid_index]\n",
        "        \n",
        "        X_train_sms, X_valid_sms = X_train.iloc[train_index]['content'], X_train.iloc[valid_index]['content']\n",
        "        cv = TfidfVectorizer(ngram_range = (1, 3))\n",
        "        X_train_bow = cv.fit_transform(X_train_sms)\n",
        "        X_valid_bow = cv.transform(X_valid_sms)     \n",
        "        if bayes :\n",
        "            X_train_new = X_train_bow\n",
        "            X_valid_new = X_valid_bow\n",
        "        else :\n",
        "            X_train_new = scipy.sparse.csr_matrix(scipy.sparse.hstack([X_train_bow, X_train_part]))\n",
        "            X_valid_new = scipy.sparse.csr_matrix(scipy.sparse.hstack([X_valid_bow, X_valid]))\n",
        "            \n",
        "        model.fit(X_train_new, y_train_part)\n",
        "        auc_scores_cv.append(roc_auc_score(y_train_part, model.predict_proba(X_train_new)[:, 1]))\n",
        "        model_pred_for_auc = model.predict_proba(X_valid_new)\n",
        "        auc_scores_valid.append(roc_auc_score(y_valid, model_pred_for_auc[:, 1]))\n",
        "    return 1 - np.mean(auc_scores_valid), 1 - np.mean(auc_scores_cv)"
      ],
      "metadata": {
        "id": "B7DLI5Y2M9fi"
      },
      "execution_count": 40,
      "outputs": []
    },
    {
      "cell_type": "code",
      "source": [
        "Cs = [0.1 * i for i in range(1, 11)]\n",
        "     \n",
        "\n",
        "\n",
        "scores = []\n",
        "for c in Cs :\n",
        "    logit = LogisticRegression(C = c)\n",
        "    scores.append(valid_for_valid_plots(logit, 10))\n",
        "     \n",
        "fig, axes = plt.subplots(nrows = 1, ncols = 1, figsize = (20, 10))\n",
        "plt.plot(Cs, [i[0] for i in scores], color = 'blue', label='holdout')\n",
        "plt.plot(Cs, [i[1] for i in scores], color = 'red', label='CV')\n",
        "plt.ylabel(\"ROCAUC\")\n",
        "plt.xlabel(\"C\")\n",
        "plt.title('Validation curve for C in (0.1, 2)');"
      ],
      "metadata": {
        "colab": {
          "base_uri": "https://localhost:8080/",
          "height": 756
        },
        "id": "cN7TeEe4M_YA",
        "outputId": "f538cf15-e5dc-4b3c-cb2d-34ed518179c1"
      },
      "execution_count": 41,
      "outputs": [
        {
          "output_type": "display_data",
          "data": {
            "text/plain": [
              "<Figure size 2000x1000 with 1 Axes>"
            ],
            "image/png": "[encoded data removed]"
          },
          "metadata": {}
        }
      ]
    },
    {
      "cell_type": "code",
      "source": [
        "Cs = np.linspace(0.5, 1.5, 10)\n",
        "\n",
        "\n",
        "for c in Cs :\n",
        "    logit = LogisticRegression(C = c)\n",
        "    print(c, valid(logit, 10))\n",
        "     \n"
      ],
      "metadata": {
        "colab": {
          "base_uri": "https://localhost:8080/"
        },
        "id": "I5F3EBGXNEUA",
        "outputId": "47adafb1-1c33-4804-c49b-a18b8f20eccc"
      },
      "execution_count": 42,
      "outputs": [
        {
          "output_type": "stream",
          "name": "stdout",
          "text": [
            "0.5 0.8238382575476747\n",
            "0.6111111111111112 0.8334277734049799\n",
            "0.7222222222222222 0.8414295079968029\n",
            "0.8333333333333333 0.8481855796201245\n",
            "0.9444444444444444 0.8539361618532009\n",
            "1.0555555555555556 0.8589981736213487\n",
            "1.1666666666666665 0.8632488680732147\n",
            "1.2777777777777777 0.8671236296163498\n",
            "1.3888888888888888 0.8708299982763561\n",
            "1.5 0.8739309745125476\n"
          ]
        }
      ]
    },
    {
      "cell_type": "code",
      "source": [
        "C_opt = 1.5\n",
        "     \n",
        "cv = TfidfVectorizer(ngram_range = (1, 3))\n",
        "X_train_content = cv.fit_transform(X_train['content'])\n",
        "X_test_content = cv.transform(X_test['content'])\n",
        "     \n",
        "train = scipy.sparse.csr_matrix(scipy.sparse.hstack([X_train_content, X_train_scaled]))\n",
        "test = scipy.sparse.csr_matrix(scipy.sparse.hstack([X_test_content, X_test_scaled]))\n",
        "\n",
        "logit = LogisticRegression(C = C_opt)\n",
        "     \n",
        "logit.fit(train, y_train)\n",
        "\n",
        "for x, y in zip(cols, logit.coef_[0][len(cv.get_feature_names_out()) :]) :\n",
        "    print(x, y)"
      ],
      "metadata": {
        "colab": {
          "base_uri": "https://localhost:8080/"
        },
        "id": "nK1_rM23NIch",
        "outputId": "1f3f50ca-8113-4d95-a972-7c29bb9fe076"
      },
      "execution_count": 44,
      "outputs": [
        {
          "output_type": "stream",
          "name": "stdout",
          "text": [
            "len 0.11116761216567485\n",
            "punct 0.09610396516747838\n",
            "capital 0.14780349993616945\n",
            "num -0.01509124644832998\n"
          ]
        }
      ]
    },
    {
      "cell_type": "code",
      "source": [
        "logit_pred = logit.predict_proba(test)\n",
        "     \n",
        "roc_auc_score(y_test, logit_pred[:, 1])\n"
      ],
      "metadata": {
        "colab": {
          "base_uri": "https://localhost:8080/"
        },
        "id": "YexL4961NTFo",
        "outputId": "dce6ea97-8046-495a-8623-d923acc7c446"
      },
      "execution_count": 45,
      "outputs": [
        {
          "output_type": "execute_result",
          "data": {
            "text/plain": [
              "0.8728922130733687"
            ]
          },
          "metadata": {},
          "execution_count": 45
        }
      ]
    },
    {
      "cell_type": "code",
      "source": [],
      "metadata": {
        "id": "f_LYf8Z3NWmb"
      },
      "execution_count": null,
      "outputs": []
    }
  ]
}